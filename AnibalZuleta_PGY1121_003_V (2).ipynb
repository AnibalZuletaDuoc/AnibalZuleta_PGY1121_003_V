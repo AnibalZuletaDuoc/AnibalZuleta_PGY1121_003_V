{
  "nbformat": 4,
  "nbformat_minor": 0,
  "metadata": {
    "colab": {
      "provenance": []
    },
    "kernelspec": {
      "name": "python3",
      "display_name": "Python 3"
    },
    "language_info": {
      "name": "python"
    }
  },
  "cells": [
    {
      "cell_type": "code",
      "source": [
        "import numpy as np"
      ],
      "metadata": {
        "id": "kGcl8FpQN89n"
      },
      "execution_count": 1,
      "outputs": []
    },
    {
      "cell_type": "code",
      "execution_count": null,
      "metadata": {
        "id": "VkoRENZZKoq6"
      },
      "outputs": [],
      "source": [
        "platinum = 120000\n",
        "gold = 80000\n",
        "silver = 50000\n",
        "\n",
        "l_asientos_platinum = [1,2,3,4,5,6,7,8,9,10,11,12,13,\"X\",15,16,17,18,19,20]\n",
        "l_asientos_gold = [21,22,23,24,25,26,27,28,29,30,31,32,33,34,35,36,37,38,39,40,41,42,43,44,\"X\",46,47,48,49,50]\n",
        "l_asientos_silver = [51,52,53,54,55,56,57,58,59,60,61,62,63,64,65,66,67,68,69,70,71,72,73,74,75,76,77,78,79,80,81,82,83,84,85,86,87,88,89,90,91,92,93,94,95,96,97,98,99,100]\n",
        "\n",
        "l_escenario = [1,2,3,4,5,6,7,8,9,10,11,12,13,\"X\",15,16,17,18,19,20,21,22,23,24,25,26,27,28,29,30,31,32,33,34,35,36,37,38,39,40,41,42,43,44,\"X\",46,47,48,49,50,\n",
        "51,52,53,54,55,56,57,58,59,60,61,62,63,64,65,66,67,68,69,70,71,72,73,74,75,76,77,78,79,80,81,82,83,84,85,86,87,88,89,90,91,92,93,94,95,96,97,98,99,100,]\n",
        "\n",
        "l_escenario_reservado = [14, 45]\n",
        "\n",
        "\n",
        "arreglo = np.empty((0, 3),dtype = object)\n",
        "print(arreglo)\n",
        "\n",
        "contador = 0\n",
        "total = 0\n"
      ]
    },
    {
      "cell_type": "code",
      "source": [
        "def menu():\n",
        "  print(\"1 comprar entradas\")\n",
        "  print(\"2 mostrar asientos\")\n",
        "  print(\"3 ver listado de asistentes\")\n",
        "  print(\"4 mostar ganancias totales\")\n",
        "  print(\"5 salir\")"
      ],
      "metadata": {
        "id": "Q_86i_4tVySp"
      },
      "execution_count": 3,
      "outputs": []
    },
    {
      "cell_type": "code",
      "source": [
        "def comprar_entradas():\n",
        "\n",
        "  global platinum,gold,silver,l_escenario,l_escenario_reservado,arreglo,contador,total,l_asientos_platinum,l_asientos_gold,l_asientos_silver\n",
        "\n",
        "  while True:\n",
        "    try:\n",
        "      rut = int(input(\"ingrese rut: \"))\n",
        "      len(str(rut)) == 9\n",
        "    except ValueError:\n",
        "      print(\"tipo de dato no valido\")\n",
        "\n",
        "\n",
        "    nombre = input(\"ingrese nombre: \")\n",
        "\n",
        "    len(nombre) >=3\n",
        "\n",
        "\n",
        "    print(\"platinum\", platinum)\n",
        "    print(\"gold\", gold)\n",
        "    print(\"silver\", silver)\n",
        "\n",
        "    t_vip = str(input(\"que tipo de vip quiere \"))\n",
        "    print(f\"usted selecciono:\",{t_vip})\n",
        "\n",
        "\n",
        "    if t_vip == \"platinum\":\n",
        "      print(l_asientos_platinum)\n",
        "\n",
        "      asiento_reservar = int(input(\"asientos platinum\"))\n",
        "      if asiento_reservar >=1 and asiento_reservar <=20:\n",
        "        print(f\"usted a reservado el asiento\",{asiento_reservar})\n",
        "      else:\n",
        "        print(\"tiene que estar dentro del rango 1 y 20\")\n",
        "\n",
        "      l_asientos_platinum.remove(asiento_reservar)\n",
        "      l_escenario_reservado.append(asiento_reservar)\n",
        "      l_escenario_reservado.sort()\n",
        "\n",
        "\n",
        "\n",
        "\n",
        "      print(\"asientos disponibles ahora son: \",l_asientos_platinum)\n",
        "      print(\"asientos reservados: \", l_escenario_reservado)\n",
        "    else:\n",
        "      print(\"escoger entre rangos vip\")\n",
        "\n",
        "\n",
        "    if t_vip == \"gold\":\n",
        "      print(l_asientos_gold)\n",
        "\n",
        "      asiento_reservar = int(input(\"asientos gold\"))\n",
        "      if asiento_reservar >=21 and asiento_reservar <=50:\n",
        "        print(f\"usted a reservado el asiento\",{asiento_reservar})\n",
        "      else:\n",
        "        print(\"tiene que estar dentro del rango 21 y 50\")\n",
        "\n",
        "      l_asientos_gold.remove(asiento_reservar)\n",
        "      l_escenario_reservado.append(asiento_reservar)\n",
        "      l_escenario_reservado.sort()\n",
        "\n",
        "\n",
        "\n",
        "      print(\"asientos disponibles ahora son: \",l_asientos_gold)\n",
        "      print(\"asientos reservados: \", l_escenario_reservado)\n",
        "\n",
        "\n",
        "    if t_vip == \"silver\":\n",
        "      print(l_asientos_silver)\n",
        "\n",
        "      asiento_reservar = int(input(\"asientos gold\"))\n",
        "      if asiento_reservar >=51 and asiento_reservar <=100:\n",
        "        print(f\"usted a reservado el asiento\",{asiento_reservar})\n",
        "      else:\n",
        "        print(\"tiene que estar dentro del rango 21 y 50\")\n",
        "\n",
        "      l_asientos_silver.remove(asiento_reservar)\n",
        "      l_escenario_reservado.append(asiento_reservar)\n",
        "      l_escenario_reservado.sort()\n",
        "\n",
        "\n",
        "\n",
        "      print(\"asientos disponibles ahora son: \",l_asientos_gold)\n",
        "      print(\"asientos reservados: \", l_escenario_reservado)\n",
        "\n",
        "\n",
        "\n",
        "\n",
        "    guardar = np.array([[rut, nombre, t_vip,]], dtype = object)\n",
        "    arreglo = np.append(arreglo, guardar, axis = 0)\n",
        "\n",
        "    contador +=1\n",
        "    print(\"sus datos se guardaron correctamente\")\n",
        "\n",
        "\n",
        "    break"
      ],
      "metadata": {
        "id": "8cx2y03tONtw"
      },
      "execution_count": 4,
      "outputs": []
    },
    {
      "cell_type": "code",
      "source": [
        "def asientos_disponibles():\n",
        "  print(\"asientos platinum\",l_asientos_platinum )\n",
        "  print(\"asientos gold\",l_asientos_gold)\n",
        "  print(\"asientos silver\",l_asientos_silver)\n",
        "  print(\"asientos reservados\", l_escenario_reservado)\n",
        "\n"
      ],
      "metadata": {
        "id": "qoqXO2fSkjmX"
      },
      "execution_count": 5,
      "outputs": []
    },
    {
      "cell_type": "code",
      "source": [
        "def listado_de_asistentes():\n",
        "\n",
        "  rut = int(input(\"ingrese rut a buscar\"))\n",
        "  for i in range(contador):\n",
        "    if arreglo[i,0] == rut:\n",
        "      print(f\"rut ingresado es: \",{arreglo[i,0]})\n",
        "      print(f\"nombre ingresado es: \",{arreglo[i,1]})\n",
        "      print(f\"t_vip ingresado es: \",{arreglo[i,2]})\n",
        "    else:\n",
        "      print(\"no encontrado\")\n",
        "\n"
      ],
      "metadata": {
        "id": "k0CNxtQ4nEn6"
      },
      "execution_count": 6,
      "outputs": []
    },
    {
      "cell_type": "code",
      "source": [
        "def ganancia_total():\n",
        "  print(\"no completado\")\n"
      ],
      "metadata": {
        "id": "z3BkYhO3p9tD"
      },
      "execution_count": 7,
      "outputs": []
    },
    {
      "cell_type": "code",
      "source": [
        "def salir():\n",
        "  print(\"espero que vuelva pronto\")\n",
        "  print(\"1.0\")\n",
        "  print(\"Anibal Zuleta\")"
      ],
      "metadata": {
        "id": "-xaJJ5UpOhPZ"
      },
      "execution_count": 8,
      "outputs": []
    },
    {
      "cell_type": "code",
      "source": [
        "while True:\n",
        "\n",
        "  menu()\n",
        "\n",
        "\n",
        "  try:\n",
        "    try:\n",
        "      opcion = int(input(\"escoger una opcion: \"))\n",
        "      if opcion >=1 and opcion <=5:\n",
        "        if opcion == 1:\n",
        "          print(comprar_entradas())\n",
        "        elif opcion == 2:\n",
        "          print(asientos_disponibles())\n",
        "        elif opcion == 3:\n",
        "          print(listado_de_asistentes())\n",
        "        elif opcion == 4:\n",
        "          print(ganancia_total)\n",
        "        elif opcion == 5:\n",
        "          print(salir())\n",
        "\n",
        "          break\n",
        "\n",
        "      else:\n",
        "        print(\"escoger dentro de las opciones\")\n",
        "    except KeyboardInterrupt:\n",
        "      print(\"programa parado manualmente\")\n",
        "  except ValueError:\n",
        "    print(\"error en tipo valor\")"
      ],
      "metadata": {
        "id": "5C7_4UqTdbT8"
      },
      "execution_count": null,
      "outputs": []
    }
  ]
}